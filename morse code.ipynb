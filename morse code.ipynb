{
 "cells": [
  {
   "cell_type": "code",
   "execution_count": 1,
   "id": "b1830e63",
   "metadata": {},
   "outputs": [],
   "source": [
    "MORSECODEDICT = {'A': '.-', 'B': '-...', 'C': '-.-.', 'D': '-..', 'E': '.', 'F': '..-.', 'G': '--.', 'H': '....',\n",
    "                    'I': '..', 'J': '.---', 'K': '-.-', 'L': '.-..', 'M': '--', 'N': '-.', 'O': '---', 'P': '.--.',\n",
    "                    'Q': '--.-', 'R': '.-.', 'S': '...', 'T': '-', 'U': '..-', 'V': '...-', 'W': '.--', 'X': '-..-',\n",
    "                    'Y': '-.--', 'Z': '--..', '0': '-----', '1': '.----', '2': '..---', '3': '...--', '4': '....-',\n",
    "                    '5': '.....', '6': '-....', '7': '--...', '8': '---..', '9': '----.'}\n",
    "\n",
    "MORSE_TO_ENGLISH = {}\n",
    "for key, value in MORSECODEDICT.items():\n",
    "    MORSE_TO_ENGLISH[value] = key"
   ]
  },
  {
   "cell_type": "code",
   "execution_count": 2,
   "id": "9c6243b1",
   "metadata": {},
   "outputs": [],
   "source": [
    "def english_to_morse(message):\n",
    "    morse = []\n",
    "    for char in message:\n",
    "        if char in MORSECODEDICT:\n",
    "            morse.append(MORSECODEDICT[char])\n",
    "        \n",
    "    return \" \".join(morse)"
   ]
  },
  {
   "cell_type": "code",
   "execution_count": 3,
   "id": "60bf75dc",
   "metadata": {},
   "outputs": [],
   "source": [
    "def banner():\n",
    "    print(\"\"\"\n",
    "            (1) Convert Morse To English \n",
    "            (2) English To Morse\n",
    "          \"\"\")"
   ]
  },
  {
   "cell_type": "code",
   "execution_count": 4,
   "id": "d8b50539",
   "metadata": {},
   "outputs": [],
   "source": [
    "def morse_to_english(message):\n",
    "    message = message.split(\" \")\n",
    "    english = []\n",
    "    for code in message:\n",
    "        if code in MORSE_TO_ENGLISH:\n",
    "            english.append(MORSE_TO_ENGLISH[code])\n",
    "    return \" \".join(english)"
   ]
  },
  {
   "cell_type": "code",
   "execution_count": 5,
   "id": "24d5a352",
   "metadata": {},
   "outputs": [
    {
     "name": "stdout",
     "output_type": "stream",
     "text": [
      "\n",
      "            (1) Convert Morse To English \n",
      "            (2) English To Morse\n",
      "          \n",
      "> 2\n",
      "Enter English Text: \n",
      "> deepshikha\n",
      "ENGLISH TO MORSE\n",
      "-.. . . .--. ... .... .. -.- .... .-\n"
     ]
    }
   ],
   "source": [
    "def main():\n",
    "    while True:\n",
    "        banner()\n",
    "        response = input(\"> \")\n",
    "        if response == \"1\" or response == \"2\":\n",
    "            break\n",
    "    \n",
    "    if response == \"1\":\n",
    "        print(\"Enter Morse Code: \")\n",
    "        morse = input(\"> \")\n",
    "        english = morse_to_english(morse)\n",
    "        print(\"MORSE TO ENGLISH\")\n",
    "        print(english)\n",
    "    \n",
    "    elif response == \"2\":\n",
    "        print(\"Enter English Text: \")\n",
    "        english = input(\"> \").upper()\n",
    "        morse = english_to_morse(english)\n",
    "        print(\"ENGLISH TO MORSE\")\n",
    "        print(morse)\n",
    "\n",
    "if __name__ == \"__main__\":\n",
    "    main()"
   ]
  },
  {
   "cell_type": "code",
   "execution_count": null,
   "id": "45ca765c",
   "metadata": {},
   "outputs": [],
   "source": []
  }
 ],
 "metadata": {
  "kernelspec": {
   "display_name": "Python 3 (ipykernel)",
   "language": "python",
   "name": "python3"
  },
  "language_info": {
   "codemirror_mode": {
    "name": "ipython",
    "version": 3
   },
   "file_extension": ".py",
   "mimetype": "text/x-python",
   "name": "python",
   "nbconvert_exporter": "python",
   "pygments_lexer": "ipython3",
   "version": "3.9.13"
  }
 },
 "nbformat": 4,
 "nbformat_minor": 5
}
